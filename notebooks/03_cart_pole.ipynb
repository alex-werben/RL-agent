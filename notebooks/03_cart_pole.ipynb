{
 "cells": [
  {
   "cell_type": "markdown",
   "metadata": {},
   "source": [
    "## Imports"
   ]
  },
  {
   "cell_type": "code",
   "execution_count": 2,
   "metadata": {},
   "outputs": [],
   "source": [
    "import matplotlib.pyplot as plt\n",
    "import gymnasium as gym\n",
    "import random\n",
    "import math\n",
    "from collections import namedtuple, deque\n",
    "from itertools import count\n",
    "\n",
    "import torch\n",
    "import torch.nn as nn\n",
    "import torch.optim as optim\n",
    "import torch.nn.functional as F\n",
    "from tqdm import tqdm\n",
    "from IPython.display import clear_output\n",
    "from torch.distributions import Categorical\n",
    "import numpy as np\n",
    "device = torch.device(\n",
    "    \"cuda\" if torch.cuda.is_available() else\n",
    "    \"mps\" if torch.backends.mps.is_available() else\n",
    "    \"cpu\"\n",
    ")"
   ]
  },
  {
   "cell_type": "markdown",
   "metadata": {},
   "source": [
    "## Prepare env"
   ]
  },
  {
   "cell_type": "code",
   "execution_count": 3,
   "metadata": {},
   "outputs": [
    {
     "data": {
      "image/png": "[encoded data removed]",
      "text/plain": [
       "<Figure size 640x480 with 1 Axes>"
      ]
     },
     "metadata": {},
     "output_type": "display_data"
    }
   ],
   "source": [
    "env = gym.make(\"CartPole-v1\", render_mode=\"rgb_array\")\n",
    "env.reset()\n",
    "plt.imshow(env.render());\n",
    "plt.axis(\"off\");"
   ]
  },
  {
   "cell_type": "code",
   "execution_count": 5,
   "metadata": {},
   "outputs": [],
   "source": [
    "env.reset()\n",
    "done, terminated = False, False\n",
    "step_i = 0"
   ]
  },
  {
   "cell_type": "code",
   "execution_count": 6,
   "metadata": {},
   "outputs": [
    {
     "name": "stdout",
     "output_type": "stream",
     "text": [
      "1.0 1 False False {}\n"
     ]
    },
    {
     "data": {
      "image/png": "[encoded data removed]",
      "text/plain": [
       "<Figure size 640x480 with 1 Axes>"
      ]
     },
     "metadata": {},
     "output_type": "display_data"
    }
   ],
   "source": [
    "step_i += 1\n",
    "\n",
    "action = env.action_space.sample()\n",
    "state, reward, done, terminated, info = env.step(action)\n",
    "print(reward, step_i, done, terminated, info)\n",
    "plt.imshow(env.render());\n",
    "plt.axis(\"off\");"
   ]
  },
  {
   "cell_type": "markdown",
   "metadata": {},
   "source": [
    "## Deep Q-Learning"
   ]
  },
  {
   "cell_type": "markdown",
   "metadata": {},
   "source": [
    "### Replay buffer"
   ]
  },
  {
   "cell_type": "code",
   "execution_count": null,
   "metadata": {},
   "outputs": [],
   "source": [
    "Transition = namedtuple(\"Transition\", (\"state\", \"action\", \"next_state\", \"reward\"))\n",
    "\n",
    "class ReplayMemory(object):\n",
    "    def __init__(self, capacity):\n",
    "        self.capacity = capacity\n",
    "        self.memory = deque([], maxlen=capacity)\n",
    "\n",
    "    def store(self, *args):\n",
    "        self.memory.append(Transition(*args))\n",
    "\n",
    "    def sample(self, batch_size):\n",
    "        return random.sample(self.memory, batch_size)\n",
    "\n",
    "    def __len__(self):\n",
    "        return len(self.memory)"
   ]
  },
  {
   "cell_type": "markdown",
   "metadata": {},
   "source": [
    "### Network"
   ]
  },
  {
   "cell_type": "code",
   "execution_count": null,
   "metadata": {},
   "outputs": [],
   "source": [
    "class DQN(nn.Module):\n",
    "    def __init__(self, n_observations, n_actions):\n",
    "        super(DQN, self).__init__()\n",
    "        self.fc1 = nn.Linear(n_observations, 128)\n",
    "        self.fc2 = nn.Linear(128, 128)\n",
    "        self.fc3 = nn.Linear(128, 128)\n",
    "        self.fc4 = nn.Linear(128, n_actions)\n",
    "\n",
    "    def forward(self, x):\n",
    "        x = F.relu(self.fc1(x))\n",
    "        x = F.relu(self.fc2(x))\n",
    "        x = F.relu(self.fc3(x))\n",
    "        x = self.fc4(x)\n",
    "        return x"
   ]
  },
  {
   "cell_type": "markdown",
   "metadata": {},
   "source": [
    "### Agent"
   ]
  },
  {
   "cell_type": "code",
   "execution_count": null,
   "metadata": {},
   "outputs": [],
   "source": [
    "class Agent(object):\n",
    "    def __init__(\n",
    "        self,\n",
    "        env,\n",
    "        batch_size: int = 5,\n",
    "        buffer_size: int = 1000,\n",
    "        eps_start: float = 0.9,\n",
    "        eps_end: float = 0.05,\n",
    "        eps_decay: int = 1000,\n",
    "        gamma: float = 0.99,\n",
    "        tau: float = 0.005,\n",
    "        lr: float = 1e-4,\n",
    "    ):\n",
    "        assert batch_size <= buffer_size, \"batch_size must be equal or lower than buffer_size\"\n",
    "        \n",
    "        self.env = env\n",
    "        self.eps_start = eps_start\n",
    "        self.eps_end = eps_end\n",
    "        self.eps_decay = eps_decay\n",
    "        self.batch_size = batch_size\n",
    "        self.gamma = gamma\n",
    "        self.tau = tau\n",
    "        self.lr = lr\n",
    "        self.loss = nn.MSELoss()\n",
    "        \n",
    "        n_actions = self.env.action_space.n\n",
    "        n_observations = len(self.env.reset()[0])\n",
    "        \n",
    "        self.policy_net = DQN(n_observations, n_actions).to(device)\n",
    "        self.target_net = DQN(n_observations, n_actions).to(device)\n",
    "        self.target_net.load_state_dict(self.policy_net.state_dict())\n",
    "\n",
    "        self.memory = ReplayMemory(buffer_size)\n",
    "\n",
    "        self.optimizer = optim.AdamW(self.policy_net.parameters(), lr=self.lr, amsgrad=True)\n",
    "\n",
    "        self.steps_done = 0\n",
    "        self.episode_durations = []\n",
    "        \n",
    "\n",
    "    def select_action(self, state):\n",
    "        eps_threshold = (\n",
    "            self.eps_end +\n",
    "            (self.eps_start - self.eps_end) *\n",
    "            math.exp(-1. * (self.steps_done / self.eps_decay))\n",
    "        )\n",
    "\n",
    "        self.steps_done += 1\n",
    "        \n",
    "        if random.random() > eps_threshold:\n",
    "            with torch.no_grad():\n",
    "                return self.policy_net(state).max(1).indices.view(1, 1)\n",
    "        else:\n",
    "            random_action = self.env.action_space.sample()\n",
    "            return torch.tensor([[random_action]], device=device, dtype=torch.long)\n",
    "        \n",
    "    def play_episode(self, train=True):\n",
    "        state, _ = self.env.reset()\n",
    "        state = torch.tensor(state, dtype=torch.float32, device=device).unsqueeze(0)\n",
    "\n",
    "\n",
    "        for t in count():\n",
    "            action = self.select_action(state)\n",
    "            observation, reward, terminated, truncated, _ = self.env.step(action.item())\n",
    "\n",
    "            reward = torch.tensor([reward], device=device)\n",
    "            done = truncated or terminated\n",
    "\n",
    "            if terminated:\n",
    "                next_state = None\n",
    "            else:\n",
    "                next_state = torch.tensor(\n",
    "                    observation,\n",
    "                    dtype=torch.float32,\n",
    "                    device=device\n",
    "                ).unsqueeze(0)\n",
    "            \n",
    "            self.memory.store(state, action, next_state, reward)\n",
    "            \n",
    "            state = next_state\n",
    "\n",
    "            if train:\n",
    "                self.optimize_model()\n",
    "\n",
    "                # Soft update of target network\n",
    "                target_net_state_dict = self.target_net.state_dict()\n",
    "                policy_net_state_dict = self.policy_net.state_dict()\n",
    "                for key in policy_net_state_dict:\n",
    "                    target_net_state_dict[key] += (\n",
    "                        policy_net_state_dict[key] * self.tau -\n",
    "                        target_net_state_dict[key] * self.tau\n",
    "                    )\n",
    "                self.target_net.load_state_dict(target_net_state_dict)\n",
    "            else:\n",
    "                self.render(t, done)  \n",
    "            \n",
    "            \n",
    "            if done:\n",
    "                if train:\n",
    "                    self.episode_durations.append(t + 1)\n",
    "                    self.plot_durations()\n",
    "                break\n",
    "\n",
    "    def optimize_model(self):\n",
    "        if len(self.memory) < self.batch_size:\n",
    "            return\n",
    "        \n",
    "        # Sample random minibatch of transitions (s_i, a_i, r_i, s_i+1) from replay memory\n",
    "        transitions = self.memory.sample(self.batch_size)\n",
    "        batch = Transition(*zip(*transitions))\n",
    "\n",
    "        non_final_mask = torch.tensor(\n",
    "            tuple(map(lambda s: s is not None, batch.next_state)),\n",
    "            device=device,\n",
    "            dtype=torch.bool\n",
    "        )\n",
    "        non_final_next_states = torch.cat(\n",
    "            [s for s in batch.next_state if s is not None]\n",
    "        )\n",
    "\n",
    "        state_batch = torch.cat(batch.state)\n",
    "        action_batch = torch.cat(batch.action)\n",
    "        reward_batch = torch.cat(batch.reward)\n",
    "\n",
    "        # Q-values of chosen actions in state\n",
    "        q_pred = self.policy_net(state_batch).gather(1, action_batch)\n",
    "\n",
    "        # state value or 0 in case the state was final.\n",
    "        next_state_values = torch.zeros(self.batch_size, device=device)\n",
    "        with torch.no_grad():\n",
    "            # V-func values for next non-final states\n",
    "            next_state_values[non_final_mask] = self.target_net(non_final_next_states).max(1).values\n",
    "        # Compute the expected Q-values\n",
    "        q_target = (next_state_values * self.gamma) + reward_batch\n",
    "\n",
    "        batch_loss = self.loss(q_pred, q_target.unsqueeze(1))\n",
    "\n",
    "        self.optimizer.zero_grad()\n",
    "        batch_loss.backward()\n",
    "\n",
    "        self.optimizer.step()\n",
    "\n",
    "    def render(self, t, done):\n",
    "        clear_output(wait=True)\n",
    "        \n",
    "        plt.imshow(self.env.render())\n",
    "        plt.pause(0.001)\n",
    "        plt.xlabel(f\"Timestep: {t}\")\n",
    "        plt.ylabel(f\"{done}\")\n",
    "\n",
    "        \n",
    "\n",
    "    def plot_durations(self, show_result=False):\n",
    "        plt.figure(1)\n",
    "        durations_t = torch.tensor(self.episode_durations, dtype=torch.float)\n",
    "        if show_result:\n",
    "            plt.title('Result')\n",
    "        else:\n",
    "            plt.clf()\n",
    "            plt.title('Training...')\n",
    "        plt.xlabel('Episode')\n",
    "        plt.ylabel('Duration')\n",
    "        plt.plot(durations_t.numpy())\n",
    "\n",
    "        if len(durations_t) >= 100:\n",
    "            means = durations_t.unfold(0, 100, 1).mean(1).view(-1)\n",
    "            means = torch.cat((torch.zeros(99), means))\n",
    "            plt.plot(means.numpy())\n",
    "\n",
    "        plt.pause(0.001)\n",
    "\n",
    "        clear_output(wait=True)\n",
    "\n",
    "    def train(self, num_episodes):\n",
    "        for _ in range(num_episodes):\n",
    "            self.play_episode(train=True)\n",
    "\n",
    "    def test(self):\n",
    "        self.play_episode(train=False)"
   ]
  },
  {
   "cell_type": "code",
   "execution_count": 611,
   "metadata": {},
   "outputs": [],
   "source": [
    "agent = Agent(env, batch_size=200)"
   ]
  },
  {
   "cell_type": "code",
   "execution_count": 620,
   "metadata": {},
   "outputs": [
    {
     "data": {
      "image/png": "[encoded data removed]",
      "text/plain": [
       "<Figure size 640x480 with 1 Axes>"
      ]
     },
     "metadata": {},
     "output_type": "display_data"
    }
   ],
   "source": [
    "agent.train(100)"
   ]
  },
  {
   "cell_type": "markdown",
   "metadata": {},
   "source": [
    "## Policy Gradient"
   ]
  },
  {
   "cell_type": "code",
   "execution_count": 61,
   "metadata": {},
   "outputs": [],
   "source": [
    "class Policy(nn.Module):\n",
    "    def __init__(self, s_size, a_size, h_size):\n",
    "        super(Policy, self).__init__()\n",
    "        self.fc1 = nn.Linear(s_size, h_size)\n",
    "        self.fc2 = nn.Linear(h_size, a_size)\n",
    "\n",
    "    def forward(self, x):\n",
    "        x = F.relu(self.fc1(x))\n",
    "        x = self.fc2(x)\n",
    "        return F.softmax(x, dim=1)\n",
    "    \n",
    "    def act(self, state):\n",
    "        state = torch.from_numpy(state).float().unsqueeze(0).to(device)\n",
    "        probs = self.forward(state).cpu()\n",
    "        # return probs\n",
    "        m = Categorical(probs)\n",
    "        action = m.sample()\n",
    "        return action.item(), m.log_prob(action)"
   ]
  },
  {
   "cell_type": "code",
   "execution_count": 62,
   "metadata": {},
   "outputs": [],
   "source": [
    "p = Policy(4, 3, 10)"
   ]
  },
  {
   "cell_type": "code",
   "execution_count": 107,
   "metadata": {},
   "outputs": [],
   "source": [
    "probs = torch.tensor([0.99, 0.0, 0.01])"
   ]
  },
  {
   "cell_type": "code",
   "execution_count": 108,
   "metadata": {},
   "outputs": [
    {
     "data": {
      "text/plain": [
       "tensor(0)"
      ]
     },
     "execution_count": 108,
     "metadata": {},
     "output_type": "execute_result"
    }
   ],
   "source": [
    "Categorical(probs).sample()"
   ]
  },
  {
   "cell_type": "code",
   "execution_count": 110,
   "metadata": {},
   "outputs": [
    {
     "data": {
      "text/plain": [
       "tensor(-0.0101)"
      ]
     },
     "execution_count": 110,
     "metadata": {},
     "output_type": "execute_result"
    }
   ],
   "source": [
    "Categorical(probs).log_prob(torch.tensor(0))"
   ]
  },
  {
   "cell_type": "code",
   "execution_count": 113,
   "metadata": {},
   "outputs": [],
   "source": [
    "d = deque(maxlen=3)"
   ]
  },
  {
   "cell_type": "code",
   "execution_count": 121,
   "metadata": {},
   "outputs": [
    {
     "data": {
      "text/plain": [
       "deque([3, 5, 7], maxlen=3)"
      ]
     },
     "execution_count": 121,
     "metadata": {},
     "output_type": "execute_result"
    }
   ],
   "source": [
    "d.append(7)\n",
    "d"
   ]
  },
  {
   "cell_type": "code",
   "execution_count": 122,
   "metadata": {},
   "outputs": [
    {
     "data": {
      "text/plain": [
       "7"
      ]
     },
     "execution_count": 122,
     "metadata": {},
     "output_type": "execute_result"
    }
   ],
   "source": [
    "d.pop()"
   ]
  },
  {
   "cell_type": "code",
   "execution_count": null,
   "metadata": {},
   "outputs": [
    {
     "data": {
      "text/plain": [
       "deque([3, 5], maxlen=3)"
      ]
     },
     "execution_count": 126,
     "metadata": {},
     "output_type": "execute_result"
    }
   ],
   "source": [
    "cartpole_hyperparameters = {\n",
    "    \"h_size\": 16,\n",
    "    \"n_training_episodes\": 1000,\n",
    "    \"n_evaluation_episodes\": 10,\n",
    "    \"max_t\": 1000,\n",
    "    \"gamma\": 1.0,\n",
    "    \"lr\": 1e-2,\n",
    "    \"env_id\": env_id,\n",
    "    \"state_space\": s_size,\n",
    "    \"action_space\": a_size,\n",
    "}"
   ]
  },
  {
   "cell_type": "code",
   "execution_count": null,
   "metadata": {},
   "outputs": [],
   "source": [
    "class PolicyGradient:\n",
    "    def __init__(\n",
    "        self,\n",
    "        env,\n",
    "        h_size: int = 16,\n",
    "        max_t: int = 1000,\n",
    "        gamma: float = 1.0,\n",
    "        lr: float = 1e-2,\n",
    "    ) -> None:\n",
    "        self.env = env\n",
    "        \n",
    "        self.action_space_n = self.env.action_space.n\n",
    "        self.observation_space_n = len(self.env.reset()[0])\n",
    "        \n",
    "        self.h_size = h_size\n",
    "        self.gamma = gamma\n",
    "        self.lr = lr\n",
    "        self.max_t = max_t\n",
    "        \n",
    "        self.policy = Policy(self.observation_space_n, self.action_space_n, self.h_size).to(device)\n",
    "\n",
    "        self.training_scores = []\n",
    "        self.optimizer = optim.Adam(params=self.policy.parameters(), lr=lr)\n",
    "\n",
    "    def train(self, n_training_episodes = 1000, max_t = 1000):\n",
    "        scores_deque = deque(maxlen=100)\n",
    "        for i_episode in tqdm(range(1, n_training_episodes+1)):\n",
    "            saved_log_probs = []\n",
    "            rewards = []\n",
    "            state, info = env.reset()\n",
    "\n",
    "            for t in range(max_t):\n",
    "                action, log_prob = self.policy.act(state=state)\n",
    "                saved_log_probs.append(log_prob)\n",
    "                state, reward, done, truncated, info = env.step(action)\n",
    "                rewards.append(reward)\n",
    "                if done or truncated:\n",
    "                    break \n",
    "            scores_deque.append(sum(rewards))\n",
    "            self.training_scores.append(sum(rewards))\n",
    "            \n",
    "            returns = deque(maxlen=max_t) \n",
    "            n_steps = len(rewards)\n",
    "\n",
    "            for t in range(n_steps)[::-1]:\n",
    "                disc_return_t = returns[0] if len(returns) > 0 else 0\n",
    "                reward_t = rewards[t]\n",
    "                returns.appendleft(reward_t + self.gamma * disc_return_t)\n",
    "\n",
    "            eps = np.finfo(np.float32).eps.item()\n",
    "            \n",
    "            returns = torch.tensor(returns)\n",
    "            returns = (returns - returns.mean()) / (returns.std() + eps)\n",
    "\n",
    "            policy_loss = []\n",
    "            for log_prob, disc_return in zip(saved_log_probs, returns):\n",
    "                policy_loss.append(-log_prob * disc_return)\n",
    "            policy_loss = torch.cat(policy_loss).sum()\n",
    "            \n",
    "            self.optimizer.zero_grad()\n",
    "            policy_loss.backward()\n",
    "            self.optimizer.step()\n",
    "            \n",
    "            if i_episode % 50 == 0:\n",
    "                print('Episode {}\\tAverage Score: {:.2f}'.format(i_episode, np.mean(scores_deque)))\n",
    "\n",
    "    def test(self, max_t = 1000):\n",
    "        state, info = env.reset()\n",
    "        done = False\n",
    "        for t in range(max_t):\n",
    "            self._render(t, done)\n",
    "            action, _ = self.policy.act(state=state)\n",
    "            new_state, _, done, truncated, _ = env.step(action)\n",
    "\n",
    "            state = new_state\n",
    "            if done or truncated:\n",
    "                break \n",
    "\n",
    "    def _render(self, t, done):\n",
    "        clear_output(wait=True)\n",
    "        \n",
    "        plt.imshow(self.env.render())\n",
    "        plt.pause(0.001)\n",
    "        plt.xlabel(f\"Timestep: {t}\")\n",
    "        plt.ylabel(f\"{done}\")"
   ]
  },
  {
   "cell_type": "code",
   "execution_count": 205,
   "metadata": {},
   "outputs": [],
   "source": [
    "pg = PolicyGradient(env=env)"
   ]
  },
  {
   "cell_type": "code",
   "execution_count": 212,
   "metadata": {},
   "outputs": [
    {
     "name": "stderr",
     "output_type": "stream",
     "text": [
      "100%|██████████| 50/50 [00:15<00:00,  3.29it/s]"
     ]
    },
    {
     "name": "stdout",
     "output_type": "stream",
     "text": [
      "Episode 50\tAverage Score: 212.84\n"
     ]
    },
    {
     "name": "stderr",
     "output_type": "stream",
     "text": [
      "\n"
     ]
    },
    {
     "data": {
      "text/plain": [
       "[<matplotlib.lines.Line2D at 0x1996a77d0>]"
      ]
     },
     "execution_count": 212,
     "metadata": {},
     "output_type": "execute_result"
    },
    {
     "data": {
      "image/png": "[encoded data removed]",
      "text/plain": [
       "<Figure size 640x480 with 1 Axes>"
      ]
     },
     "metadata": {},
     "output_type": "display_data"
    }
   ],
   "source": [
    "pg.train(n_training_episodes=50)\n",
    "plt.plot(pg.training_scores)"
   ]
  },
  {
   "cell_type": "markdown",
   "metadata": {},
   "source": [
    "## Advantage Actor Critic"
   ]
  },
  {
   "cell_type": "code",
   "execution_count": 225,
   "metadata": {},
   "outputs": [],
   "source": [
    "class Actor(nn.Module):\n",
    "    def __init__(self, s_size, a_size, h_size):\n",
    "        super(Actor, self).__init__()\n",
    "        self.fc1 = nn.Linear(s_size, h_size)\n",
    "        self.fc2 = nn.Linear(h_size, a_size)\n",
    "\n",
    "    def forward(self, x):\n",
    "        x = F.relu(self.fc1(x))\n",
    "        x = self.fc2(x)\n",
    "        return F.softmax(x, dim=1)\n",
    "    \n",
    "    def act(self, state):\n",
    "        state = torch.from_numpy(state).float().unsqueeze(0).to(device)\n",
    "        probs = self.forward(state).cpu()\n",
    "        m = Categorical(probs)\n",
    "        action = m.sample()\n",
    "        return action.item(), m.log_prob(action)"
   ]
  },
  {
   "cell_type": "code",
   "execution_count": 226,
   "metadata": {},
   "outputs": [],
   "source": [
    "class Critic(nn.Module):\n",
    "    def __init__(self, s_size, h_size):\n",
    "        super(Critic, self).__init__()\n",
    "        self.fc1 = nn.Linear(s_size, h_size)\n",
    "        self.fc2 = nn.Linear(h_size, 1)\n",
    "\n",
    "    def forward(self, x):\n",
    "        x = F.relu(self.fc1(x))\n",
    "        x = self.fc2(x)\n",
    "        return F.softmax(x, dim=1)\n",
    "    \n",
    "    def estimate(self, state):\n",
    "        state = torch.from_numpy(state).float().unsqueeze(0).to(device)\n",
    "        probs = self.forward(state).cpu()\n",
    "        return probs"
   ]
  },
  {
   "cell_type": "code",
   "execution_count": null,
   "metadata": {},
   "outputs": [],
   "source": [
    "class A2C:\n",
    "    def __init__(\n",
    "        self,\n",
    "        env,\n",
    "        h_size: int = 16,\n",
    "        max_t: int = 500,\n",
    "        gamma: float = 1.0,\n",
    "        lr: float = 1e-2,\n",
    "    ) -> None:\n",
    "        self.env = env\n",
    "        \n",
    "        self.action_space_n = self.env.action_space.n\n",
    "        self.observation_space_n = len(self.env.reset()[0])\n",
    "        \n",
    "        self.h_size = h_size\n",
    "        self.gamma = gamma\n",
    "        self.lr = lr\n",
    "        self.max_t = max_t\n",
    "        \n",
    "        self.actor = Actor(self.observation_space_n, self.action_space_n, self.h_size).to(device)\n",
    "        self.critic = Critic(self.observation_space_n, self.h_size).to(device)\n",
    "\n",
    "        self.training_scores = []\n",
    "        self.actor_opt = optim.Adam(params=self.actor.parameters(), lr=lr)\n",
    "        self.critic_opt = optim.Adam(params=self.critic.parameters(), lr=lr)\n",
    "        self.rewards = []\n",
    "\n",
    "    def train(self, n_training_episodes = 1000, max_t = 1000):\n",
    "        for i_episode in tqdm(range(n_training_episodes)):\n",
    "            observation, _ = env.reset()\n",
    "            \n",
    "            actions_list = []\n",
    "            log_probs_list = []\n",
    "            states_list = []\n",
    "            rewards_list = []\n",
    "            \n",
    "            ep_return = 0\n",
    "            for t in range(max_t):\n",
    "                action, log_prob = self.actor.act(state=observation)\n",
    "                next_observation, reward, done, truncated, _ = env.step(action)\n",
    "\n",
    "                actions_list.append(action)\n",
    "                log_probs_list.append(log_prob)\n",
    "                states_list.append(observation)\n",
    "                rewards_list.append(reward)\n",
    "\n",
    "                ep_return += reward\n",
    "                observation = next_observation\n",
    "\n",
    "                if done or truncated:\n",
    "                    self.rewards.append(ep_return)\n",
    "                    break \n",
    "\n",
    "            returns = self._calculate_returns(rewards_list)\n",
    "            advantages = self._calculate_advantages(returns, states_list)\n",
    "\n",
    "            self._update_actor(log_probs_list, advantages)\n",
    "            self._update_critic(advantages)\n",
    "\n",
    "            if ep_return > 450:\n",
    "                break\n",
    "            if (i_episode + 1) % 50 == 0:\n",
    "                print('Episode {}\\tAverage Score: {:.2f}'.format(i_episode, np.mean(self.rewards[-50:])))\n",
    "\n",
    "    def _update_actor(self, log_probs_list, advantages):\n",
    "        actor_loss = []\n",
    "        for log_prob, advantage in zip(log_probs_list, advantages):\n",
    "            actor_loss.append(-log_prob * advantage.detach())\n",
    "        actor_loss = torch.cat(actor_loss).sum()\n",
    "        \n",
    "        self.actor_opt.zero_grad()\n",
    "        actor_loss.backward()\n",
    "        self.actor_opt.step()\n",
    "    \n",
    "    def _update_critic(self, advantages):\n",
    "        critic_loss = []\n",
    "        for advantage in advantages:\n",
    "            critic_loss.append(advantage.pow(2))\n",
    "        critic_loss = torch.cat(critic_loss).sum()\n",
    "        self.critic_opt.zero_grad()\n",
    "        critic_loss.backward()\n",
    "        self.critic_opt.step()\n",
    "\n",
    "    def _calculate_advantages(self, returns, states_list):\n",
    "        advantages = []\n",
    "        for t in range(len(states_list)):\n",
    "            value = self.critic.estimate(states_list[t])\n",
    "            advantages.append(returns[t] - value)\n",
    "        return advantages\n",
    "\n",
    "    def _calculate_returns(self, rewards_list):\n",
    "        returns = deque(maxlen=len(rewards_list))\n",
    "        for t in range(len(rewards_list))[::-1]:\n",
    "            disc_return_t = returns[0] if len(returns) > 0 else 0\n",
    "            reward_t = rewards_list[t]\n",
    "            returns.appendleft(reward_t + self.gamma * disc_return_t)\n",
    "\n",
    "        return returns\n",
    "\n",
    "\n",
    "    def test(self, max_t = 1000):\n",
    "        state, _ = env.reset()\n",
    "        done = False\n",
    "        for t in range(max_t):\n",
    "            self._render(t, done)\n",
    "            action, _ = self.actor.act(state=state)\n",
    "            new_state, _, done, truncated, _ = env.step(action)\n",
    "\n",
    "            state = new_state\n",
    "            if done or truncated:\n",
    "                break \n",
    "        self._render(max_t, done)\n",
    "\n",
    "    def _render(self, t, done):\n",
    "        clear_output(wait=True)\n",
    "        \n",
    "        plt.imshow(self.env.render())\n",
    "        plt.pause(0.001)\n",
    "        plt.xlabel(f\"Timestep: {t}\")\n",
    "        plt.ylabel(f\"{done}\")"
   ]
  },
  {
   "cell_type": "code",
   "execution_count": 220,
   "metadata": {},
   "outputs": [],
   "source": [
    "a2c = A2C(env)"
   ]
  },
  {
   "cell_type": "code",
   "execution_count": 221,
   "metadata": {},
   "outputs": [
    {
     "name": "stderr",
     "output_type": "stream",
     "text": [
      " 10%|█         | 50/500 [00:05<01:01,  7.29it/s]"
     ]
    },
    {
     "name": "stdout",
     "output_type": "stream",
     "text": [
      "Episode 49\tAverage Score: 34.94\n"
     ]
    },
    {
     "name": "stderr",
     "output_type": "stream",
     "text": [
      " 20%|██        | 100/500 [00:22<03:20,  2.00it/s]"
     ]
    },
    {
     "name": "stdout",
     "output_type": "stream",
     "text": [
      "Episode 99\tAverage Score: 130.50\n"
     ]
    },
    {
     "name": "stderr",
     "output_type": "stream",
     "text": [
      " 30%|███       | 150/500 [00:39<02:09,  2.69it/s]"
     ]
    },
    {
     "name": "stdout",
     "output_type": "stream",
     "text": [
      "Episode 149\tAverage Score: 140.40\n"
     ]
    },
    {
     "name": "stderr",
     "output_type": "stream",
     "text": [
      " 33%|███▎      | 166/500 [00:51<01:42,  3.25it/s]\n"
     ]
    }
   ],
   "source": [
    "a2c.train(500)"
   ]
  },
  {
   "cell_type": "code",
   "execution_count": 222,
   "metadata": {},
   "outputs": [
    {
     "data": {
      "text/plain": [
       "[<matplotlib.lines.Line2D at 0x1595f0250>]"
      ]
     },
     "execution_count": 222,
     "metadata": {},
     "output_type": "execute_result"
    },
    {
     "data": {
      "image/png": "[encoded data removed]",
      "text/plain": [
       "<Figure size 640x480 with 1 Axes>"
      ]
     },
     "metadata": {},
     "output_type": "display_data"
    }
   ],
   "source": [
    "plt.plot(a2c.rewards)"
   ]
  }
 ],
 "metadata": {
  "kernelspec": {
   "display_name": ".venv",
   "language": "python",
   "name": "python3"
  },
  "language_info": {
   "codemirror_mode": {
    "name": "ipython",
    "version": 3
   },
   "file_extension": ".py",
   "mimetype": "text/x-python",
   "name": "python",
   "nbconvert_exporter": "python",
   "pygments_lexer": "ipython3",
   "version": "3.11.5"
  }
 },
 "nbformat": 4,
 "nbformat_minor": 2
}
